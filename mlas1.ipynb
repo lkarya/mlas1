{
 "cells": [
  {
   "cell_type": "code",
   "execution_count": null,
   "id": "24fc6890",
   "metadata": {},
   "outputs": [],
   "source": [
    "# What does one mean by the term machine learning\n",
    "Machine learning is the concept that a computer program can learn and adapt to new data without human intervention.\n",
    "\n",
    "\n",
    "# Can you think of 4 distinct types of issues where it shines?\n",
    "Machine learning algorithms have had good results on problems such has spam detection in email, cancer diagnosis, \n",
    "fraudulent credit card transactions, and automatically driving vehicles.\n",
    "\n",
    "\n",
    "# What is a labeled training set?\n",
    "Labeled training set is a set of training data which has a solution to the problem.\n",
    "\n",
    "\n",
    "# What are the two most common supervised tasks?\n",
    "Two most common supervised tasks are classification and regression.\n",
    "\n",
    "\n",
    "# Can you name four common unsupervised tasks?\n",
    "Four common unsupervised tasks inclused clustering, visualization, dimensionality reduction , and association rule learning.\n",
    "\n",
    "\n",
    "# What type of Machine Learning algorithm would you use to allow a robot to walk in various unknown terrains?\n",
    "The best Machine Learning algorithm to allow a robot to walk in unknown terrain is Reinforced Learning, \n",
    "where the robot can learn from response of the terrain to optimize itself.\n",
    "\n",
    "\n",
    "# What type of algorithm would you use to segment your customers into multiple groups?\n",
    "The best algorithm to segment customers into multiple groups is either supervised learning (if the groups have known labels) \n",
    "or unsupervised learning (if there are no group labels).\n",
    "\n",
    "\n",
    "# Would you frame the problem of spam detection as a supervised learning problem or an unsupervised learning problem?\n",
    "Spam detection is a supervised learning problem because the labels are known (spam or no spam).\n",
    "\n",
    "\n",
    "# What is an online learning system?\n",
    "Online learning system is a learning system in which the machine learns as data is given in small streams continuously.\n",
    "\n",
    "\n",
    "#What is out-of-core learning system?\n",
    "Out-of-core learning system is a system that can handle data that cannot fit into your computer memory. \n",
    "It uses online learning system to feed data in small bits.\n",
    "\n"
   ]
  }
 ],
 "metadata": {
  "kernelspec": {
   "display_name": "Python 3 (ipykernel)",
   "language": "python",
   "name": "python3"
  },
  "language_info": {
   "codemirror_mode": {
    "name": "ipython",
    "version": 3
   },
   "file_extension": ".py",
   "mimetype": "text/x-python",
   "name": "python",
   "nbconvert_exporter": "python",
   "pygments_lexer": "ipython3",
   "version": "3.9.7"
  }
 },
 "nbformat": 4,
 "nbformat_minor": 5
}
